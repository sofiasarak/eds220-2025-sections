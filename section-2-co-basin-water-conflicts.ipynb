{
 "cells": [
  {
   "cell_type": "markdown",
   "id": "3fff6d2d-aef6-48a8-ad38-7d1b798536e1",
   "metadata": {},
   "source": [
    "## 1-3. Setup and Exploration"
   ]
  },
  {
   "cell_type": "code",
   "execution_count": 29,
   "id": "30869595-3a45-4e58-bcf9-b4ce623788d6",
   "metadata": {
    "tags": []
   },
   "outputs": [],
   "source": [
    "# Importing libraries\n",
    "import pandas as pd\n",
    "import numpy as np\n",
    "\n",
    "# Loading in data\n",
    "df = pd.read_csv('data/Colorado River Basin Water Conflict Table.csv')"
   ]
  },
  {
   "cell_type": "code",
   "execution_count": 3,
   "id": "1c091380-2da2-433b-ba1c-9156fa16b818",
   "metadata": {
    "tags": []
   },
   "outputs": [
    {
     "data": {
      "text/html": [
       "<div>\n",
       "<style scoped>\n",
       "    .dataframe tbody tr th:only-of-type {\n",
       "        vertical-align: middle;\n",
       "    }\n",
       "\n",
       "    .dataframe tbody tr th {\n",
       "        vertical-align: top;\n",
       "    }\n",
       "\n",
       "    .dataframe thead th {\n",
       "        text-align: right;\n",
       "    }\n",
       "</style>\n",
       "<table border=\"1\" class=\"dataframe\">\n",
       "  <thead>\n",
       "    <tr style=\"text-align: right;\">\n",
       "      <th></th>\n",
       "      <th>Event</th>\n",
       "      <th>Search Source</th>\n",
       "      <th>Newspaper</th>\n",
       "      <th>Article Title</th>\n",
       "      <th>Duplicate</th>\n",
       "      <th>Report Date</th>\n",
       "      <th>Report Year</th>\n",
       "      <th>Event Date</th>\n",
       "      <th>Event Day</th>\n",
       "      <th>Event Month</th>\n",
       "      <th>Event Year</th>\n",
       "      <th>Conflict Present</th>\n",
       "      <th>Crisis Present</th>\n",
       "      <th>Basin</th>\n",
       "      <th>HUC6</th>\n",
       "      <th>HUC2</th>\n",
       "      <th>Place</th>\n",
       "      <th>County</th>\n",
       "      <th>County FIPS</th>\n",
       "      <th>State</th>\n",
       "      <th>State FIPS</th>\n",
       "      <th>Urban or Rural</th>\n",
       "      <th>Issue Type</th>\n",
       "      <th>Event Summary</th>\n",
       "      <th>Stakeholders</th>\n",
       "      <th>Intensity Value</th>\n",
       "      <th>Comments</th>\n",
       "      <th>Related Observation Themes</th>\n",
       "      <th>Article Text Search - water quality</th>\n",
       "      <th>Article Text Search - invasive species</th>\n",
       "      <th>Article Text Search - conservation</th>\n",
       "      <th>Article Text Search - drought</th>\n",
       "      <th>Article Text Search - flood</th>\n",
       "      <th>Article Text Search - ground water depletion</th>\n",
       "      <th>Article Text Search - depletion</th>\n",
       "      <th>Article Text Search - infrastructure</th>\n",
       "      <th>Article Text Search - fish passage</th>\n",
       "      <th>Article Text Search - instream water rights</th>\n",
       "      <th>Article Text Search - water rights</th>\n",
       "      <th>Article Text Search - intergovernmental</th>\n",
       "      <th>Article Text Search - water transfers</th>\n",
       "      <th>Article Text Search - navigation</th>\n",
       "      <th>Article Text Search - fish</th>\n",
       "      <th>Article Text Search - invasive</th>\n",
       "      <th>Article Text Search - diversion</th>\n",
       "      <th>Article Text Search - water diversion</th>\n",
       "      <th>Article Text Search - instream</th>\n",
       "      <th>Article Text Search - aquatic</th>\n",
       "    </tr>\n",
       "  </thead>\n",
       "  <tbody>\n",
       "    <tr>\n",
       "      <th>0</th>\n",
       "      <td>1</td>\n",
       "      <td>USGS1-50.docx</td>\n",
       "      <td>The Durango Herald (Colorado)</td>\n",
       "      <td>Tribes assert water rights on Colorado River B...</td>\n",
       "      <td>False</td>\n",
       "      <td>7-Apr-22</td>\n",
       "      <td>2022.0</td>\n",
       "      <td>NaN</td>\n",
       "      <td>NaN</td>\n",
       "      <td>4.0</td>\n",
       "      <td>2022.0</td>\n",
       "      <td>Y</td>\n",
       "      <td>N</td>\n",
       "      <td>Upper San Juan</td>\n",
       "      <td>140801</td>\n",
       "      <td>14</td>\n",
       "      <td>Durango, CO</td>\n",
       "      <td>La Plata</td>\n",
       "      <td>8067.0</td>\n",
       "      <td>CO</td>\n",
       "      <td>8</td>\n",
       "      <td>Both</td>\n",
       "      <td>Water rights more generally</td>\n",
       "      <td>Ute Mountain and Southern Ute representatives ...</td>\n",
       "      <td>Tribal Nations, State Government, Federal Gove...</td>\n",
       "      <td>2.0</td>\n",
       "      <td>The article highlights calls for negotiation b...</td>\n",
       "      <td>Lack of tribal representation</td>\n",
       "      <td>0</td>\n",
       "      <td>0</td>\n",
       "      <td>3</td>\n",
       "      <td>7</td>\n",
       "      <td>0</td>\n",
       "      <td>0</td>\n",
       "      <td>0</td>\n",
       "      <td>1</td>\n",
       "      <td>0</td>\n",
       "      <td>0</td>\n",
       "      <td>17</td>\n",
       "      <td>0</td>\n",
       "      <td>0</td>\n",
       "      <td>0</td>\n",
       "      <td>0</td>\n",
       "      <td>0</td>\n",
       "      <td>0</td>\n",
       "      <td>0</td>\n",
       "      <td>0</td>\n",
       "      <td>0</td>\n",
       "    </tr>\n",
       "    <tr>\n",
       "      <th>1</th>\n",
       "      <td>2</td>\n",
       "      <td>USGS1-50.docx</td>\n",
       "      <td>Journal, The (Cortez, Dolores, Mancos, CO)</td>\n",
       "      <td>Native American tribes assert water rights on ...</td>\n",
       "      <td>False</td>\n",
       "      <td>7-Apr-22</td>\n",
       "      <td>2022.0</td>\n",
       "      <td>NaN</td>\n",
       "      <td>NaN</td>\n",
       "      <td>4.0</td>\n",
       "      <td>2022.0</td>\n",
       "      <td>Y</td>\n",
       "      <td>N</td>\n",
       "      <td>Upper San Juan</td>\n",
       "      <td>140801</td>\n",
       "      <td>14</td>\n",
       "      <td>Durango, CO</td>\n",
       "      <td>La Plata</td>\n",
       "      <td>8067.0</td>\n",
       "      <td>CO</td>\n",
       "      <td>8</td>\n",
       "      <td>Both</td>\n",
       "      <td>Water rights more generally</td>\n",
       "      <td>Ute Mountain and Southern Ute representatives ...</td>\n",
       "      <td>Southern Ute Indian Tribe, Ute Mountain Tribe,...</td>\n",
       "      <td>2.0</td>\n",
       "      <td>The article highlights calls for negotiation b...</td>\n",
       "      <td>Lack of tribal representation</td>\n",
       "      <td>0</td>\n",
       "      <td>0</td>\n",
       "      <td>2</td>\n",
       "      <td>7</td>\n",
       "      <td>0</td>\n",
       "      <td>0</td>\n",
       "      <td>0</td>\n",
       "      <td>1</td>\n",
       "      <td>0</td>\n",
       "      <td>0</td>\n",
       "      <td>17</td>\n",
       "      <td>0</td>\n",
       "      <td>0</td>\n",
       "      <td>0</td>\n",
       "      <td>0</td>\n",
       "      <td>0</td>\n",
       "      <td>0</td>\n",
       "      <td>0</td>\n",
       "      <td>0</td>\n",
       "      <td>0</td>\n",
       "    </tr>\n",
       "    <tr>\n",
       "      <th>2</th>\n",
       "      <td>3</td>\n",
       "      <td>USGS1-50.docx</td>\n",
       "      <td>The Salt Lake Tribune</td>\n",
       "      <td>'Very positive change.' New Utah law will be a...</td>\n",
       "      <td>False</td>\n",
       "      <td>17-Mar-22</td>\n",
       "      <td>2022.0</td>\n",
       "      <td>NaN</td>\n",
       "      <td>NaN</td>\n",
       "      <td>3.0</td>\n",
       "      <td>2022.0</td>\n",
       "      <td>N</td>\n",
       "      <td>Y</td>\n",
       "      <td>Great Salt Lake</td>\n",
       "      <td>160203</td>\n",
       "      <td>16</td>\n",
       "      <td>Great Salt Lake</td>\n",
       "      <td>NaN</td>\n",
       "      <td>NaN</td>\n",
       "      <td>UT</td>\n",
       "      <td>49</td>\n",
       "      <td>Both</td>\n",
       "      <td>Instream water rights</td>\n",
       "      <td>A bill is proposed in Utah that would expand t...</td>\n",
       "      <td>State Government, Any Water Rights Holder, Agr...</td>\n",
       "      <td>3.0</td>\n",
       "      <td>The event is the proposal of the bill at the s...</td>\n",
       "      <td>Dishonoring the absent</td>\n",
       "      <td>0</td>\n",
       "      <td>0</td>\n",
       "      <td>1</td>\n",
       "      <td>2</td>\n",
       "      <td>0</td>\n",
       "      <td>0</td>\n",
       "      <td>0</td>\n",
       "      <td>0</td>\n",
       "      <td>0</td>\n",
       "      <td>0</td>\n",
       "      <td>12</td>\n",
       "      <td>0</td>\n",
       "      <td>0</td>\n",
       "      <td>0</td>\n",
       "      <td>1</td>\n",
       "      <td>0</td>\n",
       "      <td>0</td>\n",
       "      <td>0</td>\n",
       "      <td>12</td>\n",
       "      <td>1</td>\n",
       "    </tr>\n",
       "  </tbody>\n",
       "</table>\n",
       "</div>"
      ],
      "text/plain": [
       "   Event  Search Source                                   Newspaper  \\\n",
       "0      1  USGS1-50.docx               The Durango Herald (Colorado)   \n",
       "1      2  USGS1-50.docx  Journal, The (Cortez, Dolores, Mancos, CO)   \n",
       "2      3  USGS1-50.docx                       The Salt Lake Tribune   \n",
       "\n",
       "                                       Article Title Duplicate Report Date  \\\n",
       "0  Tribes assert water rights on Colorado River B...     False    7-Apr-22   \n",
       "1  Native American tribes assert water rights on ...     False    7-Apr-22   \n",
       "2  'Very positive change.' New Utah law will be a...     False   17-Mar-22   \n",
       "\n",
       "   Report Year Event Date  Event Day  Event Month  Event Year  \\\n",
       "0       2022.0        NaN        NaN          4.0      2022.0   \n",
       "1       2022.0        NaN        NaN          4.0      2022.0   \n",
       "2       2022.0        NaN        NaN          3.0      2022.0   \n",
       "\n",
       "  Conflict Present Crisis Present            Basin    HUC6 HUC2  \\\n",
       "0                Y              N   Upper San Juan  140801   14   \n",
       "1                Y              N   Upper San Juan  140801   14   \n",
       "2                N              Y  Great Salt Lake  160203   16   \n",
       "\n",
       "             Place    County  County FIPS State State FIPS Urban or Rural  \\\n",
       "0      Durango, CO  La Plata       8067.0    CO          8           Both   \n",
       "1      Durango, CO  La Plata       8067.0    CO          8           Both   \n",
       "2  Great Salt Lake       NaN          NaN    UT         49           Both   \n",
       "\n",
       "                    Issue Type  \\\n",
       "0  Water rights more generally   \n",
       "1  Water rights more generally   \n",
       "2        Instream water rights   \n",
       "\n",
       "                                       Event Summary  \\\n",
       "0  Ute Mountain and Southern Ute representatives ...   \n",
       "1  Ute Mountain and Southern Ute representatives ...   \n",
       "2  A bill is proposed in Utah that would expand t...   \n",
       "\n",
       "                                        Stakeholders  Intensity Value  \\\n",
       "0  Tribal Nations, State Government, Federal Gove...              2.0   \n",
       "1  Southern Ute Indian Tribe, Ute Mountain Tribe,...              2.0   \n",
       "2  State Government, Any Water Rights Holder, Agr...              3.0   \n",
       "\n",
       "                                            Comments  \\\n",
       "0  The article highlights calls for negotiation b...   \n",
       "1  The article highlights calls for negotiation b...   \n",
       "2  The event is the proposal of the bill at the s...   \n",
       "\n",
       "      Related Observation Themes  Article Text Search - water quality  \\\n",
       "0  Lack of tribal representation                                    0   \n",
       "1  Lack of tribal representation                                    0   \n",
       "2         Dishonoring the absent                                    0   \n",
       "\n",
       "   Article Text Search - invasive species  Article Text Search - conservation  \\\n",
       "0                                       0                                   3   \n",
       "1                                       0                                   2   \n",
       "2                                       0                                   1   \n",
       "\n",
       "   Article Text Search - drought  Article Text Search - flood  \\\n",
       "0                              7                            0   \n",
       "1                              7                            0   \n",
       "2                              2                            0   \n",
       "\n",
       "   Article Text Search - ground water depletion  \\\n",
       "0                                             0   \n",
       "1                                             0   \n",
       "2                                             0   \n",
       "\n",
       "   Article Text Search - depletion  Article Text Search - infrastructure  \\\n",
       "0                                0                                     1   \n",
       "1                                0                                     1   \n",
       "2                                0                                     0   \n",
       "\n",
       "   Article Text Search - fish passage  \\\n",
       "0                                   0   \n",
       "1                                   0   \n",
       "2                                   0   \n",
       "\n",
       "   Article Text Search - instream water rights  \\\n",
       "0                                            0   \n",
       "1                                            0   \n",
       "2                                            0   \n",
       "\n",
       "   Article Text Search - water rights  \\\n",
       "0                                  17   \n",
       "1                                  17   \n",
       "2                                  12   \n",
       "\n",
       "   Article Text Search - intergovernmental  \\\n",
       "0                                        0   \n",
       "1                                        0   \n",
       "2                                        0   \n",
       "\n",
       "   Article Text Search - water transfers  Article Text Search - navigation  \\\n",
       "0                                      0                                 0   \n",
       "1                                      0                                 0   \n",
       "2                                      0                                 0   \n",
       "\n",
       "   Article Text Search - fish  Article Text Search - invasive  \\\n",
       "0                           0                               0   \n",
       "1                           0                               0   \n",
       "2                           1                               0   \n",
       "\n",
       "   Article Text Search - diversion  Article Text Search - water diversion  \\\n",
       "0                                0                                      0   \n",
       "1                                0                                      0   \n",
       "2                                0                                      0   \n",
       "\n",
       "   Article Text Search - instream  Article Text Search - aquatic  \n",
       "0                               0                              0  \n",
       "1                               0                              0  \n",
       "2                              12                              1  "
      ]
     },
     "execution_count": 3,
     "metadata": {},
     "output_type": "execute_result"
    }
   ],
   "source": [
    "# Adjusting settings to see all of the columns, and then viewing first 3 rows\n",
    "pd.set_option(\"display.max.columns\", None)\n",
    "df.head(3)"
   ]
  },
  {
   "cell_type": "code",
   "execution_count": 28,
   "id": "4dbf3892-0ad7-43be-8cb8-0092ee37d228",
   "metadata": {
    "tags": []
   },
   "outputs": [
    {
     "name": "stdout",
     "output_type": "stream",
     "text": [
      "['Upper San Juan' 'Great Salt Lake' 'Lower Colorado'\n",
      " 'Entire Lower Colorado Basin' 'Entire Colorado River Basin' 'Lower Green'\n",
      " 'South Platte' 'Lower Colorado-Lake Mead' 'Entire Upper Colorado Basin'\n",
      " 'Middle Gila' 'Upper Colorado-Dirty Devil' 'Colorado Headwaters' nan\n",
      " 'Little Colorado' 'White-Yampa' 'Lower Gila-Agua Fria' 'Upper Green'\n",
      " 'Santa Cruz' 'Salt' 'Salton Sea'\n",
      " 'Upper San Juan, Salton Sea, Salt, Rio De La Concepcion, Lower San Juan, Upper Colorado-Dirty Devil, Bill Williams, Middle Gila, Santa Cruz, Verde, Lower Gila, San Pedro-Willcox, Rio Sonoyta, Lower Colorado, Little Colorado, Lower Colorado-Lake Mead, Upper Gila, Rio De Bavispe, Lower Gila-Agua Fria '\n",
      " 'Upper Colorado-Dirty Devil, Upper San Juan'\n",
      " 'Upper Colorado-Dirty Devil, Lower San Juan, Little Colorado, Lower Colorado-Lake Mead'\n",
      " 'Salt, Lower Colorado' 'Upper Gila' 'Lower San Juan']\n",
      "25\n"
     ]
    }
   ],
   "source": [
    "# Data exploration\n",
    "print(df['Basin'].unique())\n",
    "print(df['Basin'].nunique())"
   ]
  },
  {
   "cell_type": "code",
   "execution_count": 26,
   "id": "5461a204-a037-44e4-b761-eec5f1e5f4c3",
   "metadata": {
    "tags": []
   },
   "outputs": [
    {
     "name": "stdout",
     "output_type": "stream",
     "text": [
      "(268, 48)\n"
     ]
    }
   ],
   "source": [
    "# More data exploration\n",
    "print(df.shape)\n",
    "# print(df.dtypes)"
   ]
  },
  {
   "cell_type": "code",
   "execution_count": 27,
   "id": "754575b1-dfde-4220-ab2b-8d0194aeb123",
   "metadata": {
    "tags": []
   },
   "outputs": [],
   "source": [
    "# More exploration\n",
    "# df.info() // commented out bc I don't like how ugly it looks :("
   ]
  },
  {
   "cell_type": "code",
   "execution_count": 27,
   "id": "99e709a6-3b88-4154-b64f-b67c1a4c8997",
   "metadata": {
    "tags": []
   },
   "outputs": [],
   "source": [
    "df.isna().sum() # proper way to find number of NA values, because adds up 0s and 1s that represent Booleans\n",
    "# df.isna().count() just counts up the number of obsverations, not considering NAs"
   ]
  },
  {
   "cell_type": "markdown",
   "id": "ac3e9677-5c6b-48df-ab81-90ca9a8bcfc7",
   "metadata": {},
   "source": [
    "## 5. String accessor for `pandas.Series`"
   ]
  },
  {
   "cell_type": "code",
   "execution_count": 30,
   "id": "86e2afd6-3c7d-4de7-956b-64e6ff9576c4",
   "metadata": {
    "tags": []
   },
   "outputs": [
    {
     "data": {
      "text/plain": [
       "0    California; Nevada\n",
       "1               Arizona\n",
       "2                   NaN\n",
       "3          Nevada; Utah\n",
       "dtype: object"
      ]
     },
     "execution_count": 30,
     "metadata": {},
     "output_type": "execute_result"
    }
   ],
   "source": [
    "s = pd.Series(['California; Nevada', 'Arizona', np.nan, 'Nevada; Utah'])\n",
    "s"
   ]
  },
  {
   "cell_type": "code",
   "execution_count": 31,
   "id": "4bbe3b91-62a1-42db-8ff2-f1379e1e8115",
   "metadata": {
    "tags": []
   },
   "outputs": [
    {
     "data": {
      "text/plain": [
       "<pandas.core.strings.accessor.StringMethods at 0x7fba46702f50>"
      ]
     },
     "execution_count": 31,
     "metadata": {},
     "output_type": "execute_result"
    }
   ],
   "source": [
    "# str accessor (doesn't do anything by itself)\n",
    "s.str"
   ]
  },
  {
   "cell_type": "code",
   "execution_count": 32,
   "id": "2d479247-f800-4b86-86c1-06e92305f53a",
   "metadata": {
    "tags": []
   },
   "outputs": [
    {
     "data": {
      "text/html": [
       "<div>\n",
       "<style scoped>\n",
       "    .dataframe tbody tr th:only-of-type {\n",
       "        vertical-align: middle;\n",
       "    }\n",
       "\n",
       "    .dataframe tbody tr th {\n",
       "        vertical-align: top;\n",
       "    }\n",
       "\n",
       "    .dataframe thead th {\n",
       "        text-align: right;\n",
       "    }\n",
       "</style>\n",
       "<table border=\"1\" class=\"dataframe\">\n",
       "  <thead>\n",
       "    <tr style=\"text-align: right;\">\n",
       "      <th></th>\n",
       "      <th>0</th>\n",
       "      <th>1</th>\n",
       "    </tr>\n",
       "  </thead>\n",
       "  <tbody>\n",
       "    <tr>\n",
       "      <th>0</th>\n",
       "      <td>California</td>\n",
       "      <td>Nevada</td>\n",
       "    </tr>\n",
       "    <tr>\n",
       "      <th>1</th>\n",
       "      <td>Arizona</td>\n",
       "      <td>None</td>\n",
       "    </tr>\n",
       "    <tr>\n",
       "      <th>2</th>\n",
       "      <td>NaN</td>\n",
       "      <td>NaN</td>\n",
       "    </tr>\n",
       "    <tr>\n",
       "      <th>3</th>\n",
       "      <td>Nevada</td>\n",
       "      <td>Utah</td>\n",
       "    </tr>\n",
       "  </tbody>\n",
       "</table>\n",
       "</div>"
      ],
      "text/plain": [
       "            0        1\n",
       "0  California   Nevada\n",
       "1     Arizona     None\n",
       "2         NaN      NaN\n",
       "3      Nevada     Utah"
      ]
     },
     "execution_count": 32,
     "metadata": {},
     "output_type": "execute_result"
    }
   ],
   "source": [
    "# Use str accessor with additional methods to perform string operations\n",
    "# .split splits strings by ';' and expands output into separate columns\n",
    "s.str.split(';', expand=True)"
   ]
  },
  {
   "cell_type": "code",
   "execution_count": 33,
   "id": "143756a0-747b-462a-85af-4748d8e2de5b",
   "metadata": {
    "tags": []
   },
   "outputs": [
    {
     "data": {
      "text/plain": [
       "0  0    California\n",
       "   1        Nevada\n",
       "1  0       Arizona\n",
       "3  0        Nevada\n",
       "   1          Utah\n",
       "dtype: object"
      ]
     },
     "execution_count": 33,
     "metadata": {},
     "output_type": "execute_result"
    }
   ],
   "source": [
    "# Use stack() method to flatten the data frame into a series\n",
    "# default is to drop NAs and None from result\n",
    "s.str.split(';', expand=True).stack()"
   ]
  },
  {
   "cell_type": "markdown",
   "id": "6966a838-d1a8-450b-9236-c986147d61c9",
   "metadata": {},
   "source": [
    "## 6. Examine state codes\n",
    "\n",
    "Which states in the dataset are reported as having water conflicts?"
   ]
  },
  {
   "cell_type": "code",
   "execution_count": 41,
   "id": "ea4d11b5-ba9a-4e58-b1be-e0283f517d5d",
   "metadata": {
    "tags": []
   },
   "outputs": [
    {
     "data": {
      "text/plain": [
       "array(['CO', nan, 'AZ', 'OH; UT', 'UT', 'CA', 'AZ; NV', 'CO; UT; WY; NM',\n",
       "       'AZ; CA', 'AZ; UT', 'NV; AZ', 'AZ; CA; CO; NV; NM; UT; WY', 'NV',\n",
       "       'NM', 'UT; CO; WY', 'AZ; NM', 'WY; UT; CO', 'CO; AZ'], dtype=object)"
      ]
     },
     "execution_count": 41,
     "metadata": {},
     "output_type": "execute_result"
    }
   ],
   "source": [
    "# filtering just states that have water conflicts\n",
    "conflict = df[df['Conflict Present'] == 'Y']\n",
    "\n",
    "# checking unique state values\n",
    "conflict['State'].unique()\n",
    "\n",
    "# oh no, there are observations with multiple states!"
   ]
  },
  {
   "cell_type": "markdown",
   "id": "58c8ef6a-60f9-4a13-9bca-d61b45d39962",
   "metadata": {},
   "source": [
    "The challenge to finding unique states in this way is that the 'State' column contains combinations of states (for example: 'WY;UT'). \n",
    "\n",
    "We have to split up these entries first, before we proceed."
   ]
  },
  {
   "cell_type": "markdown",
   "id": "a2e63910-84d2-4c0a-b3ca-12b34c1e24a4",
   "metadata": {},
   "source": [
    "## 8. Exploratory wrangling\n",
    "## 9. Find unique state codes"
   ]
  },
  {
   "cell_type": "code",
   "execution_count": 49,
   "id": "19bc7a96-73ae-4095-87c9-a16ace98e8d6",
   "metadata": {
    "tags": []
   },
   "outputs": [
    {
     "data": {
      "text/plain": [
       "array(['CO', 'AZ', 'OH', ' UT', 'UT', 'CA', ' NV', ' WY', ' NM', ' CA',\n",
       "       'NV', ' AZ', ' CO', 'NM', 'WY'], dtype=object)"
      ]
     },
     "execution_count": 49,
     "metadata": {},
     "output_type": "execute_result"
    }
   ],
   "source": [
    "# this creates some repetitions (for example, multiple CO!)\n",
    "conflict['State'].str.split(';', expand = True).stack() # second index column is in relation to our stacked table \n",
    "\n",
    "# (row 0, column 2) refers to the second state listed in the first observation\n",
    "\n",
    "conflict['State'].str.split(';', expand = True).stack().unique()"
   ]
  },
  {
   "cell_type": "code",
   "execution_count": 50,
   "id": "eed24368-e9a2-405b-8405-8a0ce61f8033",
   "metadata": {
    "tags": []
   },
   "outputs": [
    {
     "data": {
      "text/plain": [
       "array(['CO', 'AZ', 'OH', 'UT', 'CA', 'NV', 'WY', 'NM'], dtype=object)"
      ]
     },
     "execution_count": 50,
     "metadata": {},
     "output_type": "execute_result"
    }
   ],
   "source": [
    "# fix by adding a ' ' after ;\n",
    "conflict['State'].str.split('; ', expand = True).stack().unique()\n",
    "# can also do str.strip\n",
    "\n",
    "# all good :)"
   ]
  },
  {
   "cell_type": "markdown",
   "id": "d034dd0c-0855-4d81-875a-b867680041b7",
   "metadata": {},
   "source": [
    "#### **Bonus:** How many articles mention each state?\n",
    "\n",
    "Different between `.count()` and `.value_counts()`:\n",
    "\n",
    "`.count()`: returns the number of observations, in total\n",
    "\n",
    "`.value_counts()`: returns the number of different unique values within the column"
   ]
  },
  {
   "cell_type": "code",
   "execution_count": 76,
   "id": "6e93c0ee-58aa-468e-83cd-69e45965aad9",
   "metadata": {
    "tags": []
   },
   "outputs": [
    {
     "data": {
      "text/plain": [
       "AZ    87\n",
       "CO    45\n",
       "UT    40\n",
       "NV    19\n",
       "CA    16\n",
       "NM    13\n",
       "WY     8\n",
       "OH     1\n",
       "TX     1\n",
       "Name: count, dtype: int64"
      ]
     },
     "execution_count": 76,
     "metadata": {},
     "output_type": "execute_result"
    }
   ],
   "source": [
    "# Selecting state column out of original data frame\n",
    "# Applying str.split() to expand the state column by unique state\n",
    "# Using value_counts() to find the number\n",
    "\n",
    "df['State'].str.split('; ', expand = True).stack().value_counts()"
   ]
  },
  {
   "cell_type": "code",
   "execution_count": 85,
   "id": "24663b7b-7831-4451-903a-c6d5eda62817",
   "metadata": {
    "tags": []
   },
   "outputs": [
    {
     "ename": "ValueError",
     "evalue": "Columns must be same length as key",
     "output_type": "error",
     "traceback": [
      "\u001b[0;31m---------------------------------------------------------------------------\u001b[0m",
      "\u001b[0;31mValueError\u001b[0m                                Traceback (most recent call last)",
      "\u001b[0;32m/tmp/ipykernel_1164222/3814113386.py\u001b[0m in \u001b[0;36m?\u001b[0;34m()\u001b[0m\n\u001b[1;32m      1\u001b[0m \u001b[0;31m# what happens if I apply it to a new object?\u001b[0m\u001b[0;34m\u001b[0m\u001b[0;34m\u001b[0m\u001b[0m\n\u001b[1;32m      2\u001b[0m \u001b[0mnew_df\u001b[0m \u001b[0;34m=\u001b[0m \u001b[0mdf\u001b[0m\u001b[0;34m\u001b[0m\u001b[0;34m\u001b[0m\u001b[0m\n\u001b[0;32m----> 3\u001b[0;31m \u001b[0mnew_df\u001b[0m\u001b[0;34m[\u001b[0m\u001b[0;34m'State'\u001b[0m\u001b[0;34m]\u001b[0m\u001b[0;34m=\u001b[0m \u001b[0mnew_df\u001b[0m\u001b[0;34m[\u001b[0m\u001b[0;34m'State'\u001b[0m\u001b[0;34m]\u001b[0m\u001b[0;34m.\u001b[0m\u001b[0mstr\u001b[0m\u001b[0;34m.\u001b[0m\u001b[0msplit\u001b[0m\u001b[0;34m(\u001b[0m\u001b[0;34m'; '\u001b[0m\u001b[0;34m,\u001b[0m \u001b[0mexpand\u001b[0m \u001b[0;34m=\u001b[0m \u001b[0;32mTrue\u001b[0m\u001b[0;34m)\u001b[0m\u001b[0;34m\u001b[0m\u001b[0;34m\u001b[0m\u001b[0m\n\u001b[0m\u001b[1;32m      4\u001b[0m \u001b[0mnew_df\u001b[0m\u001b[0;34m\u001b[0m\u001b[0;34m\u001b[0m\u001b[0m\n",
      "\u001b[0;32m/opt/anaconda3/envs/eds220-env/lib/python3.11/site-packages/pandas/core/frame.py\u001b[0m in \u001b[0;36m?\u001b[0;34m(self, key, value)\u001b[0m\n\u001b[1;32m   4297\u001b[0m             \u001b[0mself\u001b[0m\u001b[0;34m.\u001b[0m\u001b[0m_setitem_frame\u001b[0m\u001b[0;34m(\u001b[0m\u001b[0mkey\u001b[0m\u001b[0;34m,\u001b[0m \u001b[0mvalue\u001b[0m\u001b[0;34m)\u001b[0m\u001b[0;34m\u001b[0m\u001b[0;34m\u001b[0m\u001b[0m\n\u001b[1;32m   4298\u001b[0m         \u001b[0;32melif\u001b[0m \u001b[0misinstance\u001b[0m\u001b[0;34m(\u001b[0m\u001b[0mkey\u001b[0m\u001b[0;34m,\u001b[0m \u001b[0;34m(\u001b[0m\u001b[0mSeries\u001b[0m\u001b[0;34m,\u001b[0m \u001b[0mnp\u001b[0m\u001b[0;34m.\u001b[0m\u001b[0mndarray\u001b[0m\u001b[0;34m,\u001b[0m \u001b[0mlist\u001b[0m\u001b[0;34m,\u001b[0m \u001b[0mIndex\u001b[0m\u001b[0;34m)\u001b[0m\u001b[0;34m)\u001b[0m\u001b[0;34m:\u001b[0m\u001b[0;34m\u001b[0m\u001b[0;34m\u001b[0m\u001b[0m\n\u001b[1;32m   4299\u001b[0m             \u001b[0mself\u001b[0m\u001b[0;34m.\u001b[0m\u001b[0m_setitem_array\u001b[0m\u001b[0;34m(\u001b[0m\u001b[0mkey\u001b[0m\u001b[0;34m,\u001b[0m \u001b[0mvalue\u001b[0m\u001b[0;34m)\u001b[0m\u001b[0;34m\u001b[0m\u001b[0;34m\u001b[0m\u001b[0m\n\u001b[1;32m   4300\u001b[0m         \u001b[0;32melif\u001b[0m \u001b[0misinstance\u001b[0m\u001b[0;34m(\u001b[0m\u001b[0mvalue\u001b[0m\u001b[0;34m,\u001b[0m \u001b[0mDataFrame\u001b[0m\u001b[0;34m)\u001b[0m\u001b[0;34m:\u001b[0m\u001b[0;34m\u001b[0m\u001b[0;34m\u001b[0m\u001b[0m\n\u001b[0;32m-> 4301\u001b[0;31m             \u001b[0mself\u001b[0m\u001b[0;34m.\u001b[0m\u001b[0m_set_item_frame_value\u001b[0m\u001b[0;34m(\u001b[0m\u001b[0mkey\u001b[0m\u001b[0;34m,\u001b[0m \u001b[0mvalue\u001b[0m\u001b[0;34m)\u001b[0m\u001b[0;34m\u001b[0m\u001b[0;34m\u001b[0m\u001b[0m\n\u001b[0m\u001b[1;32m   4302\u001b[0m         elif (\n\u001b[1;32m   4303\u001b[0m             \u001b[0mis_list_like\u001b[0m\u001b[0;34m(\u001b[0m\u001b[0mvalue\u001b[0m\u001b[0;34m)\u001b[0m\u001b[0;34m\u001b[0m\u001b[0;34m\u001b[0m\u001b[0m\n\u001b[1;32m   4304\u001b[0m             \u001b[0;32mand\u001b[0m \u001b[0;32mnot\u001b[0m \u001b[0mself\u001b[0m\u001b[0;34m.\u001b[0m\u001b[0mcolumns\u001b[0m\u001b[0;34m.\u001b[0m\u001b[0mis_unique\u001b[0m\u001b[0;34m\u001b[0m\u001b[0;34m\u001b[0m\u001b[0m\n",
      "\u001b[0;32m/opt/anaconda3/envs/eds220-env/lib/python3.11/site-packages/pandas/core/frame.py\u001b[0m in \u001b[0;36m?\u001b[0;34m(self, key, value)\u001b[0m\n\u001b[1;32m   4425\u001b[0m             \u001b[0mloc\u001b[0m \u001b[0;34m=\u001b[0m \u001b[0mself\u001b[0m\u001b[0;34m.\u001b[0m\u001b[0mcolumns\u001b[0m\u001b[0;34m.\u001b[0m\u001b[0mget_loc\u001b[0m\u001b[0;34m(\u001b[0m\u001b[0mkey\u001b[0m\u001b[0;34m)\u001b[0m\u001b[0;34m\u001b[0m\u001b[0;34m\u001b[0m\u001b[0m\n\u001b[1;32m   4426\u001b[0m             \u001b[0mcols\u001b[0m \u001b[0;34m=\u001b[0m \u001b[0mself\u001b[0m\u001b[0;34m.\u001b[0m\u001b[0mcolumns\u001b[0m\u001b[0;34m[\u001b[0m\u001b[0mloc\u001b[0m\u001b[0;34m]\u001b[0m\u001b[0;34m\u001b[0m\u001b[0;34m\u001b[0m\u001b[0m\n\u001b[1;32m   4427\u001b[0m             \u001b[0mlen_cols\u001b[0m \u001b[0;34m=\u001b[0m \u001b[0;36m1\u001b[0m \u001b[0;32mif\u001b[0m \u001b[0mis_scalar\u001b[0m\u001b[0;34m(\u001b[0m\u001b[0mcols\u001b[0m\u001b[0;34m)\u001b[0m \u001b[0;32mor\u001b[0m \u001b[0misinstance\u001b[0m\u001b[0;34m(\u001b[0m\u001b[0mcols\u001b[0m\u001b[0;34m,\u001b[0m \u001b[0mtuple\u001b[0m\u001b[0;34m)\u001b[0m \u001b[0;32melse\u001b[0m \u001b[0mlen\u001b[0m\u001b[0;34m(\u001b[0m\u001b[0mcols\u001b[0m\u001b[0;34m)\u001b[0m\u001b[0;34m\u001b[0m\u001b[0;34m\u001b[0m\u001b[0m\n\u001b[1;32m   4428\u001b[0m             \u001b[0;32mif\u001b[0m \u001b[0mlen_cols\u001b[0m \u001b[0;34m!=\u001b[0m \u001b[0mlen\u001b[0m\u001b[0;34m(\u001b[0m\u001b[0mvalue\u001b[0m\u001b[0;34m.\u001b[0m\u001b[0mcolumns\u001b[0m\u001b[0;34m)\u001b[0m\u001b[0;34m:\u001b[0m\u001b[0;34m\u001b[0m\u001b[0;34m\u001b[0m\u001b[0m\n\u001b[0;32m-> 4429\u001b[0;31m                 \u001b[0;32mraise\u001b[0m \u001b[0mValueError\u001b[0m\u001b[0;34m(\u001b[0m\u001b[0;34m\"Columns must be same length as key\"\u001b[0m\u001b[0;34m)\u001b[0m\u001b[0;34m\u001b[0m\u001b[0;34m\u001b[0m\u001b[0m\n\u001b[0m\u001b[1;32m   4430\u001b[0m \u001b[0;34m\u001b[0m\u001b[0m\n\u001b[1;32m   4431\u001b[0m             \u001b[0;31m# align right-hand-side columns if self.columns\u001b[0m\u001b[0;34m\u001b[0m\u001b[0;34m\u001b[0m\u001b[0m\n\u001b[1;32m   4432\u001b[0m             \u001b[0;31m# is multi-index and self[key] is a sub-frame\u001b[0m\u001b[0;34m\u001b[0m\u001b[0;34m\u001b[0m\u001b[0m\n",
      "\u001b[0;31mValueError\u001b[0m: Columns must be same length as key"
     ]
    }
   ],
   "source": [
    "# what happens if I want to split a string but retain the whole data frame around it?\n",
    "new_df = df\n",
    "new_df['State'] = new_df['State'].str.split('; ', expand = True)\n",
    "new_df"
   ]
  },
  {
   "cell_type": "code",
   "execution_count": 90,
   "id": "60ac3774-c101-4487-acbf-b386b6dd12b3",
   "metadata": {
    "tags": []
   },
   "outputs": [
    {
     "data": {
      "text/html": [
       "<div>\n",
       "<style scoped>\n",
       "    .dataframe tbody tr th:only-of-type {\n",
       "        vertical-align: middle;\n",
       "    }\n",
       "\n",
       "    .dataframe tbody tr th {\n",
       "        vertical-align: top;\n",
       "    }\n",
       "\n",
       "    .dataframe thead th {\n",
       "        text-align: right;\n",
       "    }\n",
       "</style>\n",
       "<table border=\"1\" class=\"dataframe\">\n",
       "  <thead>\n",
       "    <tr style=\"text-align: right;\">\n",
       "      <th></th>\n",
       "      <th>0</th>\n",
       "      <th>1</th>\n",
       "      <th>2</th>\n",
       "      <th>3</th>\n",
       "      <th>4</th>\n",
       "      <th>5</th>\n",
       "      <th>6</th>\n",
       "    </tr>\n",
       "  </thead>\n",
       "  <tbody>\n",
       "    <tr>\n",
       "      <th>0</th>\n",
       "      <td>CO</td>\n",
       "      <td>None</td>\n",
       "      <td>None</td>\n",
       "      <td>None</td>\n",
       "      <td>None</td>\n",
       "      <td>None</td>\n",
       "      <td>None</td>\n",
       "    </tr>\n",
       "    <tr>\n",
       "      <th>1</th>\n",
       "      <td>CO</td>\n",
       "      <td>None</td>\n",
       "      <td>None</td>\n",
       "      <td>None</td>\n",
       "      <td>None</td>\n",
       "      <td>None</td>\n",
       "      <td>None</td>\n",
       "    </tr>\n",
       "    <tr>\n",
       "      <th>2</th>\n",
       "      <td>UT</td>\n",
       "      <td>None</td>\n",
       "      <td>None</td>\n",
       "      <td>None</td>\n",
       "      <td>None</td>\n",
       "      <td>None</td>\n",
       "      <td>None</td>\n",
       "    </tr>\n",
       "    <tr>\n",
       "      <th>3</th>\n",
       "      <td>NaN</td>\n",
       "      <td>NaN</td>\n",
       "      <td>NaN</td>\n",
       "      <td>NaN</td>\n",
       "      <td>NaN</td>\n",
       "      <td>NaN</td>\n",
       "      <td>NaN</td>\n",
       "    </tr>\n",
       "    <tr>\n",
       "      <th>4</th>\n",
       "      <td>NaN</td>\n",
       "      <td>NaN</td>\n",
       "      <td>NaN</td>\n",
       "      <td>NaN</td>\n",
       "      <td>NaN</td>\n",
       "      <td>NaN</td>\n",
       "      <td>NaN</td>\n",
       "    </tr>\n",
       "    <tr>\n",
       "      <th>...</th>\n",
       "      <td>...</td>\n",
       "      <td>...</td>\n",
       "      <td>...</td>\n",
       "      <td>...</td>\n",
       "      <td>...</td>\n",
       "      <td>...</td>\n",
       "      <td>...</td>\n",
       "    </tr>\n",
       "    <tr>\n",
       "      <th>263</th>\n",
       "      <td>CO</td>\n",
       "      <td>None</td>\n",
       "      <td>None</td>\n",
       "      <td>None</td>\n",
       "      <td>None</td>\n",
       "      <td>None</td>\n",
       "      <td>None</td>\n",
       "    </tr>\n",
       "    <tr>\n",
       "      <th>264</th>\n",
       "      <td>CO</td>\n",
       "      <td>None</td>\n",
       "      <td>None</td>\n",
       "      <td>None</td>\n",
       "      <td>None</td>\n",
       "      <td>None</td>\n",
       "      <td>None</td>\n",
       "    </tr>\n",
       "    <tr>\n",
       "      <th>265</th>\n",
       "      <td>AZ</td>\n",
       "      <td>CA</td>\n",
       "      <td>None</td>\n",
       "      <td>None</td>\n",
       "      <td>None</td>\n",
       "      <td>None</td>\n",
       "      <td>None</td>\n",
       "    </tr>\n",
       "    <tr>\n",
       "      <th>266</th>\n",
       "      <td>AZ</td>\n",
       "      <td>None</td>\n",
       "      <td>None</td>\n",
       "      <td>None</td>\n",
       "      <td>None</td>\n",
       "      <td>None</td>\n",
       "      <td>None</td>\n",
       "    </tr>\n",
       "    <tr>\n",
       "      <th>267</th>\n",
       "      <td>AZ</td>\n",
       "      <td>None</td>\n",
       "      <td>None</td>\n",
       "      <td>None</td>\n",
       "      <td>None</td>\n",
       "      <td>None</td>\n",
       "      <td>None</td>\n",
       "    </tr>\n",
       "  </tbody>\n",
       "</table>\n",
       "<p>268 rows × 7 columns</p>\n",
       "</div>"
      ],
      "text/plain": [
       "       0     1     2     3     4     5     6\n",
       "0     CO  None  None  None  None  None  None\n",
       "1     CO  None  None  None  None  None  None\n",
       "2     UT  None  None  None  None  None  None\n",
       "3    NaN   NaN   NaN   NaN   NaN   NaN   NaN\n",
       "4    NaN   NaN   NaN   NaN   NaN   NaN   NaN\n",
       "..   ...   ...   ...   ...   ...   ...   ...\n",
       "263   CO  None  None  None  None  None  None\n",
       "264   CO  None  None  None  None  None  None\n",
       "265   AZ    CA  None  None  None  None  None\n",
       "266   AZ  None  None  None  None  None  None\n",
       "267   AZ  None  None  None  None  None  None\n",
       "\n",
       "[268 rows x 7 columns]"
      ]
     },
     "execution_count": 90,
     "metadata": {},
     "output_type": "execute_result"
    }
   ],
   "source": [
    "new_df['State'].str.split('; ', expand = True)"
   ]
  },
  {
   "cell_type": "markdown",
   "id": "a60a36db-6c85-410d-977c-a9a11825eb80",
   "metadata": {},
   "source": [
    "### How to find Python documentation"
   ]
  },
  {
   "cell_type": "code",
   "execution_count": 81,
   "id": "01fca0d8-81ef-49a5-8d41-cce4bcdc12d1",
   "metadata": {
    "tags": []
   },
   "outputs": [
    {
     "data": {
      "text/plain": [
       "\u001b[0;31mSignature:\u001b[0m \u001b[0mlen\u001b[0m\u001b[0;34m(\u001b[0m\u001b[0mobj\u001b[0m\u001b[0;34m,\u001b[0m \u001b[0;34m/\u001b[0m\u001b[0;34m)\u001b[0m\u001b[0;34m\u001b[0m\u001b[0;34m\u001b[0m\u001b[0m\n",
       "\u001b[0;31mDocstring:\u001b[0m Return the number of items in a container.\n",
       "\u001b[0;31mType:\u001b[0m      builtin_function_or_method"
      ]
     },
     "metadata": {},
     "output_type": "display_data"
    }
   ],
   "source": [
    "len?"
   ]
  },
  {
   "cell_type": "code",
   "execution_count": 78,
   "id": "223f6fd2-4138-46be-9419-85aaf007d2b6",
   "metadata": {
    "tags": []
   },
   "outputs": [
    {
     "name": "stdout",
     "output_type": "stream",
     "text": [
      "Help on method_descriptor:\n",
      "\n",
      "split(self, /, sep=None, maxsplit=-1)\n",
      "    Return a list of the substrings in the string, using sep as the separator string.\n",
      "    \n",
      "      sep\n",
      "        The separator used to split the string.\n",
      "    \n",
      "        When set to None (the default value), will split on any whitespace\n",
      "        character (including \\\\n \\\\r \\\\t \\\\f and spaces) and will discard\n",
      "        empty strings from the result.\n",
      "      maxsplit\n",
      "        Maximum number of splits (starting from the left).\n",
      "        -1 (the default value) means no limit.\n",
      "    \n",
      "    Note, str.split() is mainly useful for data that has been intentionally\n",
      "    delimited.  With natural text that includes punctuation, consider using\n",
      "    the regular expression module.\n",
      "\n"
     ]
    }
   ],
   "source": [
    "help(str.split)"
   ]
  },
  {
   "cell_type": "code",
   "execution_count": 79,
   "id": "b1de0df8-b03a-4d62-93b6-016d3d2cd250",
   "metadata": {
    "tags": []
   },
   "outputs": [
    {
     "name": "stdout",
     "output_type": "stream",
     "text": [
      "Help on function value_counts in module pandas.core.base:\n",
      "\n",
      "value_counts(self, normalize: 'bool' = False, sort: 'bool' = True, ascending: 'bool' = False, bins=None, dropna: 'bool' = True) -> 'Series'\n",
      "    Return a Series containing counts of unique values.\n",
      "    \n",
      "    The resulting object will be in descending order so that the\n",
      "    first element is the most frequently-occurring element.\n",
      "    Excludes NA values by default.\n",
      "    \n",
      "    Parameters\n",
      "    ----------\n",
      "    normalize : bool, default False\n",
      "        If True then the object returned will contain the relative\n",
      "        frequencies of the unique values.\n",
      "    sort : bool, default True\n",
      "        Sort by frequencies when True. Preserve the order of the data when False.\n",
      "    ascending : bool, default False\n",
      "        Sort in ascending order.\n",
      "    bins : int, optional\n",
      "        Rather than count values, group them into half-open bins,\n",
      "        a convenience for ``pd.cut``, only works with numeric data.\n",
      "    dropna : bool, default True\n",
      "        Don't include counts of NaN.\n",
      "    \n",
      "    Returns\n",
      "    -------\n",
      "    Series\n",
      "    \n",
      "    See Also\n",
      "    --------\n",
      "    Series.count: Number of non-NA elements in a Series.\n",
      "    DataFrame.count: Number of non-NA elements in a DataFrame.\n",
      "    DataFrame.value_counts: Equivalent method on DataFrames.\n",
      "    \n",
      "    Examples\n",
      "    --------\n",
      "    >>> index = pd.Index([3, 1, 2, 3, 4, np.nan])\n",
      "    >>> index.value_counts()\n",
      "    3.0    2\n",
      "    1.0    1\n",
      "    2.0    1\n",
      "    4.0    1\n",
      "    Name: count, dtype: int64\n",
      "    \n",
      "    With `normalize` set to `True`, returns the relative frequency by\n",
      "    dividing all values by the sum of values.\n",
      "    \n",
      "    >>> s = pd.Series([3, 1, 2, 3, 4, np.nan])\n",
      "    >>> s.value_counts(normalize=True)\n",
      "    3.0    0.4\n",
      "    1.0    0.2\n",
      "    2.0    0.2\n",
      "    4.0    0.2\n",
      "    Name: proportion, dtype: float64\n",
      "    \n",
      "    **bins**\n",
      "    \n",
      "    Bins can be useful for going from a continuous variable to a\n",
      "    categorical variable; instead of counting unique\n",
      "    apparitions of values, divide the index in the specified\n",
      "    number of half-open bins.\n",
      "    \n",
      "    >>> s.value_counts(bins=3)\n",
      "    (0.996, 2.0]    2\n",
      "    (2.0, 3.0]      2\n",
      "    (3.0, 4.0]      1\n",
      "    Name: count, dtype: int64\n",
      "    \n",
      "    **dropna**\n",
      "    \n",
      "    With `dropna` set to `False` we can also see NaN index values.\n",
      "    \n",
      "    >>> s.value_counts(dropna=False)\n",
      "    3.0    2\n",
      "    1.0    1\n",
      "    2.0    1\n",
      "    4.0    1\n",
      "    NaN    1\n",
      "    Name: count, dtype: int64\n",
      "\n"
     ]
    }
   ],
   "source": [
    "help(pd.Series.value_counts)"
   ]
  }
 ],
 "metadata": {
  "kernelspec": {
   "display_name": "EDS220",
   "language": "python",
   "name": "eds220-env"
  },
  "language_info": {
   "codemirror_mode": {
    "name": "ipython",
    "version": 3
   },
   "file_extension": ".py",
   "mimetype": "text/x-python",
   "name": "python",
   "nbconvert_exporter": "python",
   "pygments_lexer": "ipython3",
   "version": "3.11.4"
  }
 },
 "nbformat": 4,
 "nbformat_minor": 5
}
