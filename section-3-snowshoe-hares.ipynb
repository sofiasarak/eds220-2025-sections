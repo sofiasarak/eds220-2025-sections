{
 "cells": [
  {
   "cell_type": "markdown",
   "id": "36154a06-264b-45a5-ab52-ed9d0b7535fd",
   "metadata": {},
   "source": [
    "## Archive Exploration\n",
    "\n",
    "**Description:**\n",
    "\n",
    "**Citation:**\n",
    "\n",
    "**Date of Access**:\n",
    "\n",
    "**Link**:\n",
    "\n",
    "![CC-ZeroFlickr images reviewed by FlickreviewRPhotos uploaded from Flickr by Fæ using a scriptPhotographs by Alan Schmierer](https://upload.wikimedia.org/wikipedia/commons/thumb/8/8a/SNOWSHOE_HARE_%28Lepus_americanus%29_%285-28-2015%29_quoddy_head%2C_washington_co%2C_maine_-01_%2818988734889%29.jpg/1452px-SNOWSHOE_HARE_%28Lepus_americanus%29_%285-28-2015%29_quoddy_head%2C_washington_co%2C_maine_-01_%2818988734889%29.jpg?20170313021652)"
   ]
  },
  {
   "cell_type": "markdown",
   "id": "27086c92-9c0e-4d2d-bc22-7d5fac0f57af",
   "metadata": {},
   "source": [
    "# 3. Data loading and preliminary exploration"
   ]
  },
  {
   "cell_type": "code",
   "execution_count": 2,
   "id": "868b63a7-b451-4105-a35d-51033cd94378",
   "metadata": {
    "tags": []
   },
   "outputs": [],
   "source": [
    "import pandas as pd\n",
    "URL = 'https://pasta.lternet.edu/package/data/eml/knb-lter-bnz/55/22/f01f5d71be949b8c700b6ecd1c42c701'\n",
    "hares = pd.read_csv(URL)"
   ]
  },
  {
   "cell_type": "code",
   "execution_count": 3,
   "id": "6a1fd100-d0db-4418-b91d-102ddbb85958",
   "metadata": {
    "tags": []
   },
   "outputs": [
    {
     "data": {
      "text/html": [
       "<div>\n",
       "<style scoped>\n",
       "    .dataframe tbody tr th:only-of-type {\n",
       "        vertical-align: middle;\n",
       "    }\n",
       "\n",
       "    .dataframe tbody tr th {\n",
       "        vertical-align: top;\n",
       "    }\n",
       "\n",
       "    .dataframe thead th {\n",
       "        text-align: right;\n",
       "    }\n",
       "</style>\n",
       "<table border=\"1\" class=\"dataframe\">\n",
       "  <thead>\n",
       "    <tr style=\"text-align: right;\">\n",
       "      <th></th>\n",
       "      <th>date</th>\n",
       "      <th>time</th>\n",
       "      <th>grid</th>\n",
       "      <th>trap</th>\n",
       "      <th>l_ear</th>\n",
       "      <th>r_ear</th>\n",
       "      <th>sex</th>\n",
       "      <th>age</th>\n",
       "      <th>weight</th>\n",
       "      <th>hindft</th>\n",
       "      <th>notes</th>\n",
       "      <th>b_key</th>\n",
       "      <th>session_id</th>\n",
       "      <th>study</th>\n",
       "    </tr>\n",
       "  </thead>\n",
       "  <tbody>\n",
       "    <tr>\n",
       "      <th>0</th>\n",
       "      <td>11/26/1998</td>\n",
       "      <td>NaN</td>\n",
       "      <td>bonrip</td>\n",
       "      <td>1A</td>\n",
       "      <td>414D096A08</td>\n",
       "      <td>NaN</td>\n",
       "      <td>NaN</td>\n",
       "      <td>NaN</td>\n",
       "      <td>1370.0</td>\n",
       "      <td>160.0</td>\n",
       "      <td>NaN</td>\n",
       "      <td>917.0</td>\n",
       "      <td>51</td>\n",
       "      <td>Population</td>\n",
       "    </tr>\n",
       "    <tr>\n",
       "      <th>1</th>\n",
       "      <td>11/26/1998</td>\n",
       "      <td>NaN</td>\n",
       "      <td>bonrip</td>\n",
       "      <td>2C</td>\n",
       "      <td>414D320671</td>\n",
       "      <td>NaN</td>\n",
       "      <td>M</td>\n",
       "      <td>NaN</td>\n",
       "      <td>1430.0</td>\n",
       "      <td>NaN</td>\n",
       "      <td>NaN</td>\n",
       "      <td>936.0</td>\n",
       "      <td>51</td>\n",
       "      <td>Population</td>\n",
       "    </tr>\n",
       "    <tr>\n",
       "      <th>2</th>\n",
       "      <td>11/26/1998</td>\n",
       "      <td>NaN</td>\n",
       "      <td>bonrip</td>\n",
       "      <td>2D</td>\n",
       "      <td>414D103E3A</td>\n",
       "      <td>NaN</td>\n",
       "      <td>M</td>\n",
       "      <td>NaN</td>\n",
       "      <td>1430.0</td>\n",
       "      <td>NaN</td>\n",
       "      <td>NaN</td>\n",
       "      <td>921.0</td>\n",
       "      <td>51</td>\n",
       "      <td>Population</td>\n",
       "    </tr>\n",
       "    <tr>\n",
       "      <th>3</th>\n",
       "      <td>11/26/1998</td>\n",
       "      <td>NaN</td>\n",
       "      <td>bonrip</td>\n",
       "      <td>2E</td>\n",
       "      <td>414D262D43</td>\n",
       "      <td>NaN</td>\n",
       "      <td>NaN</td>\n",
       "      <td>NaN</td>\n",
       "      <td>1490.0</td>\n",
       "      <td>135.0</td>\n",
       "      <td>NaN</td>\n",
       "      <td>931.0</td>\n",
       "      <td>51</td>\n",
       "      <td>Population</td>\n",
       "    </tr>\n",
       "    <tr>\n",
       "      <th>4</th>\n",
       "      <td>11/26/1998</td>\n",
       "      <td>NaN</td>\n",
       "      <td>bonrip</td>\n",
       "      <td>3B</td>\n",
       "      <td>414D2B4B58</td>\n",
       "      <td>NaN</td>\n",
       "      <td>NaN</td>\n",
       "      <td>NaN</td>\n",
       "      <td>1710.0</td>\n",
       "      <td>150.0</td>\n",
       "      <td>NaN</td>\n",
       "      <td>933.0</td>\n",
       "      <td>51</td>\n",
       "      <td>Population</td>\n",
       "    </tr>\n",
       "  </tbody>\n",
       "</table>\n",
       "</div>"
      ],
      "text/plain": [
       "         date time    grid trap       l_ear r_ear  sex  age  weight  hindft  \\\n",
       "0  11/26/1998  NaN  bonrip   1A  414D096A08   NaN  NaN  NaN  1370.0   160.0   \n",
       "1  11/26/1998  NaN  bonrip   2C  414D320671   NaN    M  NaN  1430.0     NaN   \n",
       "2  11/26/1998  NaN  bonrip   2D  414D103E3A   NaN    M  NaN  1430.0     NaN   \n",
       "3  11/26/1998  NaN  bonrip   2E  414D262D43   NaN  NaN  NaN  1490.0   135.0   \n",
       "4  11/26/1998  NaN  bonrip   3B  414D2B4B58   NaN  NaN  NaN  1710.0   150.0   \n",
       "\n",
       "  notes  b_key  session_id       study  \n",
       "0   NaN  917.0          51  Population  \n",
       "1   NaN  936.0          51  Population  \n",
       "2   NaN  921.0          51  Population  \n",
       "3   NaN  931.0          51  Population  \n",
       "4   NaN  933.0          51  Population  "
      ]
     },
     "execution_count": 3,
     "metadata": {},
     "output_type": "execute_result"
    }
   ],
   "source": [
    "hares.head()"
   ]
  },
  {
   "cell_type": "code",
   "execution_count": 4,
   "id": "c09000f0-aed1-4bd9-abaa-3dc0bbd39e44",
   "metadata": {
    "tags": []
   },
   "outputs": [
    {
     "data": {
      "text/plain": [
       "(3380, 14)"
      ]
     },
     "execution_count": 4,
     "metadata": {},
     "output_type": "execute_result"
    }
   ],
   "source": [
    "# Finding dimensions of data frame\n",
    "hares.shape"
   ]
  },
  {
   "cell_type": "code",
   "execution_count": 5,
   "id": "28c5d310-6bdc-4c94-8de6-12b5509c48ee",
   "metadata": {
    "tags": []
   },
   "outputs": [
    {
     "data": {
      "text/plain": [
       "date           object\n",
       "time           object\n",
       "grid           object\n",
       "trap           object\n",
       "l_ear          object\n",
       "r_ear          object\n",
       "sex            object\n",
       "age            object\n",
       "weight        float64\n",
       "hindft        float64\n",
       "notes          object\n",
       "b_key         float64\n",
       "session_id      int64\n",
       "study          object\n",
       "dtype: object"
      ]
     },
     "execution_count": 5,
     "metadata": {},
     "output_type": "execute_result"
    }
   ],
   "source": [
    "# Data types within data frame\n",
    "hares.dtypes"
   ]
  },
  {
   "cell_type": "code",
   "execution_count": 7,
   "id": "fd125ffa-068a-43a2-a0fa-59ad4b3248c8",
   "metadata": {
    "tags": []
   },
   "outputs": [
    {
     "data": {
      "text/plain": [
       "date             0\n",
       "time          3116\n",
       "grid             0\n",
       "trap            12\n",
       "l_ear           48\n",
       "r_ear          169\n",
       "sex            352\n",
       "age           2111\n",
       "weight         535\n",
       "hindft        1747\n",
       "notes         3137\n",
       "b_key           47\n",
       "session_id       0\n",
       "study          163\n",
       "dtype: int64"
      ]
     },
     "execution_count": 7,
     "metadata": {},
     "output_type": "execute_result"
    }
   ],
   "source": [
    "# Any columns with a significant number of NA values?\n",
    "hares.isna().sum()"
   ]
  },
  {
   "cell_type": "code",
   "execution_count": 13,
   "id": "54d99060-82e5-441d-b0fa-e99801522e42",
   "metadata": {
    "tags": []
   },
   "outputs": [
    {
     "data": {
      "text/html": [
       "<div>\n",
       "<style scoped>\n",
       "    .dataframe tbody tr th:only-of-type {\n",
       "        vertical-align: middle;\n",
       "    }\n",
       "\n",
       "    .dataframe tbody tr th {\n",
       "        vertical-align: top;\n",
       "    }\n",
       "\n",
       "    .dataframe thead th {\n",
       "        text-align: right;\n",
       "    }\n",
       "</style>\n",
       "<table border=\"1\" class=\"dataframe\">\n",
       "  <thead>\n",
       "    <tr style=\"text-align: right;\">\n",
       "      <th></th>\n",
       "      <th>weight</th>\n",
       "      <th>hindft</th>\n",
       "    </tr>\n",
       "  </thead>\n",
       "  <tbody>\n",
       "    <tr>\n",
       "      <th>count</th>\n",
       "      <td>2845.000000</td>\n",
       "      <td>1633.000000</td>\n",
       "    </tr>\n",
       "    <tr>\n",
       "      <th>mean</th>\n",
       "      <td>1346.081547</td>\n",
       "      <td>130.872627</td>\n",
       "    </tr>\n",
       "    <tr>\n",
       "      <th>std</th>\n",
       "      <td>345.160112</td>\n",
       "      <td>16.155295</td>\n",
       "    </tr>\n",
       "    <tr>\n",
       "      <th>min</th>\n",
       "      <td>0.000000</td>\n",
       "      <td>60.000000</td>\n",
       "    </tr>\n",
       "    <tr>\n",
       "      <th>25%</th>\n",
       "      <td>1180.000000</td>\n",
       "      <td>128.000000</td>\n",
       "    </tr>\n",
       "    <tr>\n",
       "      <th>50%</th>\n",
       "      <td>1400.000000</td>\n",
       "      <td>135.000000</td>\n",
       "    </tr>\n",
       "    <tr>\n",
       "      <th>75%</th>\n",
       "      <td>1580.000000</td>\n",
       "      <td>140.000000</td>\n",
       "    </tr>\n",
       "    <tr>\n",
       "      <th>max</th>\n",
       "      <td>2365.000000</td>\n",
       "      <td>160.000000</td>\n",
       "    </tr>\n",
       "  </tbody>\n",
       "</table>\n",
       "</div>"
      ],
      "text/plain": [
       "            weight       hindft\n",
       "count  2845.000000  1633.000000\n",
       "mean   1346.081547   130.872627\n",
       "std     345.160112    16.155295\n",
       "min       0.000000    60.000000\n",
       "25%    1180.000000   128.000000\n",
       "50%    1400.000000   135.000000\n",
       "75%    1580.000000   140.000000\n",
       "max    2365.000000   160.000000"
      ]
     },
     "execution_count": 13,
     "metadata": {},
     "output_type": "execute_result"
    }
   ],
   "source": [
    "# Min and max of weight and feet measurements\n",
    "hares[['weight','hindft']].describe()"
   ]
  },
  {
   "cell_type": "code",
   "execution_count": 17,
   "id": "67560fe7-4924-4f79-b890-43c60a3ddd97",
   "metadata": {
    "tags": []
   },
   "outputs": [
    {
     "data": {
      "text/plain": [
       "array([nan, 'M', 'F', '?', 'F?', 'M?', 'pf', 'm', 'f', 'f?', 'm?', 'f ',\n",
       "       'm '], dtype=object)"
      ]
     },
     "execution_count": 17,
     "metadata": {},
     "output_type": "execute_result"
    }
   ],
   "source": [
    "# Explore unique values\n",
    "hares['sex'].unique()"
   ]
  },
  {
   "cell_type": "code",
   "execution_count": 25,
   "id": "652c43b5-dcd4-49a5-b7e1-48f4b8c6114f",
   "metadata": {
    "tags": []
   },
   "outputs": [],
   "source": [
    "# Exploratory question: what kind of studies?\n",
    "hares['study'].unique()\n",
    "\n",
    "hares_pop = hares[hares['study'] == 'Population']"
   ]
  },
  {
   "cell_type": "code",
   "execution_count": 29,
   "id": "1c99f126-72f1-48a7-ba1a-27f508baa212",
   "metadata": {},
   "outputs": [
    {
     "data": {
      "text/html": [
       "<div>\n",
       "<style scoped>\n",
       "    .dataframe tbody tr th:only-of-type {\n",
       "        vertical-align: middle;\n",
       "    }\n",
       "\n",
       "    .dataframe tbody tr th {\n",
       "        vertical-align: top;\n",
       "    }\n",
       "\n",
       "    .dataframe thead th {\n",
       "        text-align: right;\n",
       "    }\n",
       "</style>\n",
       "<table border=\"1\" class=\"dataframe\">\n",
       "  <thead>\n",
       "    <tr style=\"text-align: right;\">\n",
       "      <th></th>\n",
       "      <th>weight</th>\n",
       "      <th>hindft</th>\n",
       "      <th>b_key</th>\n",
       "      <th>session_id</th>\n",
       "    </tr>\n",
       "    <tr>\n",
       "      <th>trap</th>\n",
       "      <th></th>\n",
       "      <th></th>\n",
       "      <th></th>\n",
       "      <th></th>\n",
       "    </tr>\n",
       "  </thead>\n",
       "  <tbody>\n",
       "    <tr>\n",
       "      <th>7f</th>\n",
       "      <td>1640.000000</td>\n",
       "      <td>NaN</td>\n",
       "      <td>734.250000</td>\n",
       "      <td>35.750000</td>\n",
       "    </tr>\n",
       "    <tr>\n",
       "      <th>5c</th>\n",
       "      <td>1540.000000</td>\n",
       "      <td>NaN</td>\n",
       "      <td>63.000000</td>\n",
       "      <td>64.000000</td>\n",
       "    </tr>\n",
       "    <tr>\n",
       "      <th>7D</th>\n",
       "      <td>1535.000000</td>\n",
       "      <td>125.500000</td>\n",
       "      <td>388.777778</td>\n",
       "      <td>64.833333</td>\n",
       "    </tr>\n",
       "    <tr>\n",
       "      <th>4f</th>\n",
       "      <td>1534.166667</td>\n",
       "      <td>142.000000</td>\n",
       "      <td>487.125000</td>\n",
       "      <td>38.375000</td>\n",
       "    </tr>\n",
       "    <tr>\n",
       "      <th>9C</th>\n",
       "      <td>1525.000000</td>\n",
       "      <td>131.777778</td>\n",
       "      <td>433.400000</td>\n",
       "      <td>69.866667</td>\n",
       "    </tr>\n",
       "    <tr>\n",
       "      <th>...</th>\n",
       "      <td>...</td>\n",
       "      <td>...</td>\n",
       "      <td>...</td>\n",
       "      <td>...</td>\n",
       "    </tr>\n",
       "    <tr>\n",
       "      <th>4e</th>\n",
       "      <td>565.000000</td>\n",
       "      <td>90.000000</td>\n",
       "      <td>72.000000</td>\n",
       "      <td>50.000000</td>\n",
       "    </tr>\n",
       "    <tr>\n",
       "      <th>6b</th>\n",
       "      <td>450.000000</td>\n",
       "      <td>96.000000</td>\n",
       "      <td>76.000000</td>\n",
       "      <td>50.000000</td>\n",
       "    </tr>\n",
       "    <tr>\n",
       "      <th>4c</th>\n",
       "      <td>427.500000</td>\n",
       "      <td>87.500000</td>\n",
       "      <td>68.500000</td>\n",
       "      <td>50.000000</td>\n",
       "    </tr>\n",
       "    <tr>\n",
       "      <th>3g</th>\n",
       "      <td>NaN</td>\n",
       "      <td>NaN</td>\n",
       "      <td>975.000000</td>\n",
       "      <td>37.000000</td>\n",
       "    </tr>\n",
       "    <tr>\n",
       "      <th>4b</th>\n",
       "      <td>NaN</td>\n",
       "      <td>NaN</td>\n",
       "      <td>63.000000</td>\n",
       "      <td>64.000000</td>\n",
       "    </tr>\n",
       "  </tbody>\n",
       "</table>\n",
       "<p>121 rows × 4 columns</p>\n",
       "</div>"
      ],
      "text/plain": [
       "           weight      hindft       b_key  session_id\n",
       "trap                                                 \n",
       "7f    1640.000000         NaN  734.250000   35.750000\n",
       "5c    1540.000000         NaN   63.000000   64.000000\n",
       "7D    1535.000000  125.500000  388.777778   64.833333\n",
       "4f    1534.166667  142.000000  487.125000   38.375000\n",
       "9C    1525.000000  131.777778  433.400000   69.866667\n",
       "...           ...         ...         ...         ...\n",
       "4e     565.000000   90.000000   72.000000   50.000000\n",
       "6b     450.000000   96.000000   76.000000   50.000000\n",
       "4c     427.500000   87.500000   68.500000   50.000000\n",
       "3g            NaN         NaN  975.000000   37.000000\n",
       "4b            NaN         NaN   63.000000   64.000000\n",
       "\n",
       "[121 rows x 4 columns]"
      ]
     },
     "execution_count": 29,
     "metadata": {},
     "output_type": "execute_result"
    }
   ],
   "source": [
    "hares_pop_mean_weight = hares_pop.groupby('trap').mean('weight').sort_values('weight', ascending = False)\n",
    "hares_pop_mean_weight"
   ]
  },
  {
   "cell_type": "markdown",
   "id": "a319aa75-8aa0-44aa-b8ed-ea59271736a8",
   "metadata": {},
   "source": [
    "# 4. Detecting messy values\n",
    "\n",
    "| Value     | Definition |\n",
    "| ----------- | ----------- |\n",
    "| m      | male      |\n",
    "| m?     | male not confirmed        |\n",
    "| f    | female      |\n",
    "| f?     | female not confirmed        |"
   ]
  },
  {
   "cell_type": "code",
   "execution_count": 34,
   "id": "28a883e7-203e-46cb-9948-bfd20a2dd0a3",
   "metadata": {
    "tags": []
   },
   "outputs": [
    {
     "data": {
      "text/plain": [
       "sex\n",
       "f     1721\n",
       "m     1249\n",
       "f?      13\n",
       "m?       4\n",
       "Name: count, dtype: int64"
      ]
     },
     "execution_count": 34,
     "metadata": {},
     "output_type": "execute_result"
    }
   ],
   "source": [
    "# number of times each sex value appears\n",
    "hares['sex'].str.lower().str.strip().value_counts().drop(['?', 'pf'])\n",
    "\n",
    "# value_counts defaults to dropping NA values, can change with an argument\n",
    "\n",
    "# .str.strip() removes whitespace whichw as causing duplicate values\n",
    "# .str.lower() also removed multiple values caused by capitalization"
   ]
  },
  {
   "cell_type": "markdown",
   "id": "78c718db-d416-48a1-adb4-0c307a4a917a",
   "metadata": {},
   "source": [
    "# 5. Brainstorm\n",
    "\n",
    "## Values in 'sex' column as only \"male\" and \"female\"?\n",
    "\n",
    "1. Use similar cleaning to what we did in part 4 to do basic cleaning\n",
    "2. Create a dictionary that defines both f and f? as \"female\", and the same for male equivalent\n",
    "3. Filter our hares data frame using our dictionary"
   ]
  },
  {
   "cell_type": "code",
   "execution_count": 35,
   "id": "7b5c3f86-4d90-4e18-851f-dc65b5c8107b",
   "metadata": {
    "tags": []
   },
   "outputs": [],
   "source": [
    "sex_mapping = {\n",
    "    (\"m\", \"m?\") : \"male\", \n",
    "    (\"f\", \"f?\") : \"female\"}"
   ]
  },
  {
   "cell_type": "code",
   "execution_count": 37,
   "id": "d5b52302-253a-419a-8f18-cd2a35faa41d",
   "metadata": {
    "tags": []
   },
   "outputs": [],
   "source": [
    "# hares['sex'].replace(sex_mapping)\n",
    "# doesn't work :("
   ]
  },
  {
   "cell_type": "code",
   "execution_count": 38,
   "id": "90611d26-2b80-4d9f-9e6d-7143d55e60ab",
   "metadata": {
    "tags": []
   },
   "outputs": [],
   "source": [
    "import numpy as np"
   ]
  },
  {
   "cell_type": "markdown",
   "id": "eb220e4d-75e9-48a0-b707-7207d242cfd5",
   "metadata": {},
   "source": [
    "# 6. Clean values"
   ]
  }
 ],
 "metadata": {
  "kernelspec": {
   "display_name": "EDS220",
   "language": "python",
   "name": "eds220-env"
  },
  "language_info": {
   "codemirror_mode": {
    "name": "ipython",
    "version": 3
   },
   "file_extension": ".py",
   "mimetype": "text/x-python",
   "name": "python",
   "nbconvert_exporter": "python",
   "pygments_lexer": "ipython3",
   "version": "3.11.4"
  }
 },
 "nbformat": 4,
 "nbformat_minor": 5
}
